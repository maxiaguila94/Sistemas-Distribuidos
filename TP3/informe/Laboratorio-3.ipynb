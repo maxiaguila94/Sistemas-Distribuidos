{
 "cells": [
  {
   "cell_type": "markdown",
   "metadata": {},
   "source": [
    "# Desarrolle un experimento (mediante Telnet o analizador de paquetes) que muestre si el servidor de HTTP agrega o quita información a la que genera un programa CGI. Nota: debería programar o utilizar un programa CGI para conocer exactamente lo que genera y debería mostrar la información que llega del lado del cliente, a nivel de HTTP o HTML (preferentemente HTTP)."
   ]
  },
  {
   "cell_type": "markdown",
   "metadata": {
    "collapsed": true
   },
   "source": []
  },
  {
   "cell_type": "markdown",
   "metadata": {},
   "source": [
    "# Se debe desarrollar una aplicación que presente al usuario una página web con una opción de carga de datos y una opción de modificación de datos. La opción de carga consistirá en mostrar un formulario con un conjunto de datos a completar y que luego almacene estos datos en un archivo de texto plano. Los datos son:\n",
    "\n",
    "+ Nombre y Apellido (hasta 70 caracteres)\n",
    "\n",
    "+ Número de Alumno/Legajo (cantidad de dígitos limitada)\n",
    "\n",
    "+ Sexo (lista desplegable para elegir entre Masculino o Femenino)\n",
    "\n",
    "+ Edad (hasta dos dígitos)\n",
    "\n",
    "+ Contraseña (que no se muestre en pantalla)\n",
    "\n",
    "\n",
    "Para el caso de “modificación”, se deberá requerir Numero de Alumno y la Contraseña, si este par es encontrado en el archivo de texto plano, se muestra lo que ya se tiene para ser modificado como si se estuvieran cargando los datos, pero con los valores iniciales/default cargados del archivo. Utilizar cookies para permitir sucesivas modificaciones sobre los datos sin volver a pedir el legajo y palabra clave.\n",
    "\n",
    "Se deben desarrollar las páginas estáticas HTML, el o los programas CGI para procesar los datos y la distribución de estos componentes en el sistema de archivos.\n",
    "\n",
    "Justifique si este ejercicio puede ser considerado una aplicación web."
   ]
  },
  {
   "cell_type": "markdown",
   "metadata": {},
   "source": []
  },
  {
   "cell_type": "markdown",
   "metadata": {},
   "source": [
    "# Agregue a la aplicación del ejercicio 3 cuatro posibilidades de consultas básicas: por nombre y apellido (pueden haber “*”), Número de Alumno/Legajo (puede ser un intervalo), sexo, y edad (puede ser un intervalo). Los resultados deben mostrarse visualmente diferenciados. ej:\n",
    "\n",
    "| Nombre | Nro  |Edad | Sexo  |\n",
    "|--------|------|-----|-------|\n",
    "| nomrbe1|nro1  |edad1|sexo1  |\n",
    "| nomrbe2|nro2  |edad2|sexo2  |\n",
    "\n",
    "\n",
    "**COMENTARIO:** este ejercicio es para que se vea que el programa CGI debería combinar la generación de HMTL con el resultado de lo que se procesa localmente en el servidor. Y que el HTML generado puede ser \"largo\". El programa CGI puede estar en el lenguaje que se desee."
   ]
  },
  {
   "cell_type": "markdown",
   "metadata": {},
   "source": []
  },
  {
   "cell_type": "markdown",
   "metadata": {},
   "source": [
    "# Agregue a la aplicación la consulta de valores totales por rango de edad (0-20, 20-40, mas de 40) y sexo.\n",
    "\n",
    "**COMENTARIO:** este ejercicio es para que se vea que la mayor parte del procesamiento en el lado\n",
    "del servidor puede ser solamente para computar valores simples a mostrar, pero que pueden ser\n",
    "resultado de procesamiento relativamente complejo."
   ]
  },
  {
   "cell_type": "markdown",
   "metadata": {},
   "source": []
  },
  {
   "cell_type": "markdown",
   "metadata": {},
   "source": [
    "# Tome el código que se adjunta como Anexo 5 del apunte de AJAX y agregue las siguientes mejora de funcionalidad:\n",
    "\n",
    "+ **a)** Agregar un botón a la ventana principal de chat, a efectos que un usuario ingresante pueda registrarse en el sitio. El usuario ingresará su “Nick” y al pulsar el botón, se registrará en un archivo data/usuarios.txt en el servidor.\n",
    "\n",
    "+ **b)** Producido el registro, se devolverá al usuario una lista total de usuarios registrados en una pequeña ventana a la derecha de la ventana común de mensajes y también se devolverá toda la conversación entre usuarios registrada hasta ese momento.\n",
    "\n",
    "+ **c)** Intentar establecer la actualización incremental del chat, mediante el almacenamiento en cada cliente de la última línea de chat enviada."
   ]
  },
  {
   "cell_type": "markdown",
   "metadata": {},
   "source": []
  },
  {
   "cell_type": "markdown",
   "metadata": {},
   "source": [
    "# DFS:\n",
    "\n",
    "+ **a)** Configurar NFS y efectuar un compartimiento de archivos entre un Servidor y un Cliente Linux. Describir la operatoria en el informe.\n",
    "\n",
    "+ **b)**7 Configurar Samba y efectuar un compartimiento de archivos entre un Windows y un Cliente Linux. Describir la operatoria en el informe."
   ]
  },
  {
   "cell_type": "markdown",
   "metadata": {},
   "source": []
  },
  {
   "cell_type": "markdown",
   "metadata": {},
   "source": [
    "# DNS:\n",
    "\n",
    "**Objetivo:** Observar las llamadas implícitas a DNS y ponderar tiempos de acceso. Efectuar el siguiente experimento, verificando información con la ayuda de un analizador de protocolo:\n",
    "\n",
    "+ **a)** Desde el browser haga una conexión a una página WEB de argentina, que haya utilizado hace mucho tiempo o que no haya utilizado (un diario, un blog, etc.). Obtenga la diferencia temporal entre la consulta que se observa en el analizador y su respuesta.\n",
    "\n",
    "+ **b)** Haga lo mismo con una página no frecuentada por Ud. que se supone que está situada en un servidor europeo o de Asia. (la página oficial del grupo Nightwish, o algún diario galés, etc.). Compare sus conclusiones con las obtenidas en el caso a).\n",
    "\n",
    "+ **c)** Vuelva nuevamente a invocar la página seleccionada en a), (que se supone ya reside en su caché). Compare resultados.\n",
    "\n",
    "+ **d)** Aporte las conclusiones que puede sacar del experimento."
   ]
  },
  {
   "cell_type": "markdown",
   "metadata": {},
   "source": []
  }
 ],
 "metadata": {
  "kernelspec": {
   "display_name": "Python 3",
   "language": "python",
   "name": "python3"
  },
  "language_info": {
   "codemirror_mode": {
    "name": "ipython",
    "version": 3
   },
   "file_extension": ".py",
   "mimetype": "text/x-python",
   "name": "python",
   "nbconvert_exporter": "python",
   "pygments_lexer": "ipython3",
   "version": "3.6.2"
  }
 },
 "nbformat": 4,
 "nbformat_minor": 2
}
